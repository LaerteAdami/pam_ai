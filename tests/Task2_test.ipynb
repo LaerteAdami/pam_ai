{
 "cells": [
  {
   "cell_type": "markdown",
   "id": "47032fbf-7acd-476b-9236-7142109c4b61",
   "metadata": {},
   "source": [
    "# Task 2 - Neural network tests"
   ]
  },
  {
   "cell_type": "code",
   "execution_count": null,
   "id": "1e889149-105f-4cd6-88ef-b479c7145676",
   "metadata": {},
   "outputs": [],
   "source": []
  }
 ],
 "metadata": {
  "kernelspec": {
   "display_name": "Python 3 (ipykernel)",
   "language": "python",
   "name": "python3"
  },
  "language_info": {
   "codemirror_mode": {
    "name": "ipython",
    "version": 3
   },
   "file_extension": ".py",
   "mimetype": "text/x-python",
   "name": "python",
   "nbconvert_exporter": "python",
   "pygments_lexer": "ipython3",
   "version": "3.9.12"
  }
 },
 "nbformat": 4,
 "nbformat_minor": 5
}
