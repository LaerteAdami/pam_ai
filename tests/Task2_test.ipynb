{
 "cells": [
  {
   "cell_type": "markdown",
   "id": "47032fbf-7acd-476b-9236-7142109c4b61",
   "metadata": {},
   "source": [
    "# Task 2 - Neural network tests"
   ]
  },
  {
   "cell_type": "code",
   "execution_count": 1,
   "id": "659c2d0e-22c8-4268-a0d1-04af04b35206",
   "metadata": {},
   "outputs": [],
   "source": [
    "import numpy as np\n",
    "\n",
    "# Import neural network\n",
    "import sys\n",
    "sys.path.insert(0, '../src')\n",
    "\n",
    "from Task_2.activation_layer import ActivationLayer\n",
    "from Task_2.adam_optimizer import AdamOptimizer\n",
    "from Task_2.layer import Layer\n",
    "from Task_2.neural_network import NeuralNetwork"
   ]
  },
  {
   "cell_type": "markdown",
   "id": "5ce738d4-0d36-4d6f-a2eb-802896d9994e",
   "metadata": {},
   "source": [
    "## Dropout"
   ]
  },
  {
   "cell_type": "code",
   "execution_count": 2,
   "id": "fc0bb5b5-a9e0-4d7f-8fa1-fbd5c4c21a7d",
   "metadata": {},
   "outputs": [
    {
     "data": {
      "text/plain": [
       "array([[ 6,  3,  6,  5,  4],\n",
       "       [99, 99, 99,  1,  6],\n",
       "       [ 1,  5,  2,  5,  6],\n",
       "       [ 8,  6,  5,  7,  4],\n",
       "       [99, 99, 99,  8,  2],\n",
       "       [99, 99, 99,  5,  7],\n",
       "       [99, 99, 99,  9,  8],\n",
       "       [99, 99, 99,  1,  1],\n",
       "       [ 5,  8,  8,  8,  7],\n",
       "       [ 4,  3,  3,  7,  3]])"
      ]
     },
     "execution_count": 2,
     "metadata": {},
     "output_type": "execute_result"
    }
   ],
   "source": [
    "## Testing the dropout \n",
    "l = Layer(10, dropout_percentile = 0.5, activation_function = None)\n",
    "l.w = np.random.randint(0, 10, (10, 5))\n",
    "\n",
    "# Fix variables to 0\n",
    "l.b = np.zeros((1,10))\n",
    "l.b_moment1 = np.zeros_like(l.b)\n",
    "l.b_moment2 = np.zeros_like(l.b)\n",
    "l.w_moment1 = np.zeros_like(l.w)\n",
    "l.w_moment2 = np.zeros_like(l.w)\n",
    "\n",
    "l.dropout([0,1,2])\n",
    "previous = [0,1,2]\n",
    "w_test = l.w\n",
    "l.w = 99*np.ones_like(w_test)\n",
    "l.reset_matrix(previous)\n",
    "l.w\n",
    "\n",
    "# Check the 99 in the weigth matrix"
   ]
  },
  {
   "cell_type": "code",
   "execution_count": 3,
   "id": "e8231fda-a48d-46b2-b651-6b7809b3278b",
   "metadata": {},
   "outputs": [
    {
     "data": {
      "text/plain": [
       "array([[99, 99, 99, 99, 99],\n",
       "       [ 5,  2,  9,  4,  5],\n",
       "       [ 8,  0,  0,  2,  7],\n",
       "       [99, 99, 99, 99, 99],\n",
       "       [99, 99, 99, 99, 99],\n",
       "       [99, 99, 99, 99, 99],\n",
       "       [99, 99, 99, 99, 99],\n",
       "       [ 2,  1,  9,  9,  1],\n",
       "       [ 9,  4,  8,  9,  8],\n",
       "       [ 1,  1,  9,  3,  6]])"
      ]
     },
     "execution_count": 3,
     "metadata": {},
     "output_type": "execute_result"
    }
   ],
   "source": [
    "## Testing the dropout for output layer\n",
    "l = Layer(10, dropout_percentile = 0.5, activation_function = None)\n",
    "l.w = np.random.randint(0, 10, (10, 5))\n",
    "\n",
    "# Fix variables to 0\n",
    "l.b = np.zeros((1,10))\n",
    "l.b_moment1 = np.zeros_like(l.b)\n",
    "l.b_moment2 = np.zeros_like(l.b)\n",
    "l.w_moment1 = np.zeros_like(l.w)\n",
    "l.w_moment2 = np.zeros_like(l.w)\n",
    "\n",
    "previous = range(l.w.shape[1])\n",
    "\n",
    "l.dropout(previous)\n",
    "w_test = l.w\n",
    "l.w = 99*np.ones_like(w_test)\n",
    "l.reset_matrix(previous)\n",
    "l.w"
   ]
  },
  {
   "cell_type": "code",
   "execution_count": 4,
   "id": "511b197d-6770-4a4c-b5e8-9a373e5e1a81",
   "metadata": {},
   "outputs": [
    {
     "data": {
      "text/plain": [
       "array([[ 3.77252549e-01, -1.11498686e-01, -2.68763766e-02,\n",
       "        -3.45194354e-01,  2.19329474e-01, -6.59897834e-02],\n",
       "       [-1.54791755e-01, -2.18744074e-01,  2.99897116e-01,\n",
       "        -4.65630969e-03,  4.05454868e-01, -1.61827405e-01],\n",
       "       [ 7.86263331e-02, -5.19212947e-02,  9.90000000e+01,\n",
       "         9.90000000e+01,  4.84052671e-01,  9.90000000e+01]])"
      ]
     },
     "execution_count": 4,
     "metadata": {},
     "output_type": "execute_result"
    }
   ],
   "source": [
    "## Testing NN with dropout\n",
    "NN = NeuralNetwork(learning_rate=0.01,max_epochs=1000,type_loss=\"mse\")\n",
    "NN.add(Layer(3)) # Add input layer\n",
    "NN.add(Layer(6, dropout_percentile=0.5, activation_function=ActivationLayer(\"ReLu\"))) # Add hidden layer\n",
    "NN.add(Layer(4, dropout_percentile=0.5, activation_function=ActivationLayer(\"sigmoid\"))) # Add output layer\n",
    "NN.build_network()\n",
    "\n",
    "indices = NN.dropout_matrices()\n",
    "\n",
    "NN.layers[1].w = 99*np.ones_like(NN.layers[1].w)\n",
    "NN.layers[2].w = 99*np.ones_like(NN.layers[2].w)\n",
    "\n",
    "NN.restore_matrices()\n",
    "\n",
    "# Check the imposition of 99 in the elements of the weight matrix\n",
    "NN.layers[1].w"
   ]
  },
  {
   "cell_type": "markdown",
   "id": "0b773f35-9fef-4d9d-900c-f99768be12a5",
   "metadata": {},
   "source": [
    "## Activation function"
   ]
  },
  {
   "cell_type": "code",
   "execution_count": 5,
   "id": "3b961623-0088-480c-8c90-774080abf0b6",
   "metadata": {},
   "outputs": [
    {
     "data": {
      "text/plain": [
       "array([9.52269826e-01, 4.74107229e-02, 3.19450938e-04], dtype=float128)"
      ]
     },
     "execution_count": 5,
     "metadata": {},
     "output_type": "execute_result"
    }
   ],
   "source": [
    "## Test softmax\n",
    "x = np.array([8,5,0])\n",
    "\n",
    "al = ActivationLayer(type = \"softmax\")\n",
    "al.activation_function(x)"
   ]
  },
  {
   "cell_type": "markdown",
   "id": "48dd1f4e-7591-4468-8248-daf6895dcc33",
   "metadata": {},
   "source": [
    "## Test on regression"
   ]
  },
  {
   "cell_type": "code",
   "execution_count": 6,
   "id": "d678c38d-6ac2-4caa-ba06-4937d83c9326",
   "metadata": {},
   "outputs": [],
   "source": [
    "from sklearn.datasets import make_blobs\n",
    "from sklearn.preprocessing import StandardScaler\n",
    "from sklearn.model_selection import train_test_split\n",
    "from sklearn.metrics import accuracy_score\n",
    "\n",
    "# Test the regression with the make_blobs with 4 features\n",
    "X, y = make_blobs( n_samples=10000, n_features=4, centers=((0,0,0,0), (1,1,1,1)))\n",
    "X = StandardScaler().fit_transform(X)\n",
    "y = np.reshape(y,(-1,1))\n",
    "\n",
    "# Split train and test dataset\n",
    "X_train, X_test, y_train, y_test = train_test_split(X, y, train_size=0.80)"
   ]
  },
  {
   "cell_type": "code",
   "execution_count": 7,
   "id": "fb0b9531-e60a-42c9-b4e2-c3ad21e4a01a",
   "metadata": {},
   "outputs": [
    {
     "name": "stdout",
     "output_type": "stream",
     "text": [
      "Percentage of correct predictions: 0.83 \n"
     ]
    }
   ],
   "source": [
    "# Build and train the neural network without dropout\n",
    "NN = NeuralNetwork(learning_rate=0.01,max_epochs=100,type_loss=\"mse\")\n",
    "NN.add(Layer(4)) # Add input layer\n",
    "NN.add(Layer(20, dropout_percentile=1, activation_function=ActivationLayer(\"ReLu\"))) # Add hidden layer\n",
    "NN.add(Layer(1, dropout_percentile=1, activation_function=ActivationLayer(\"sigmoid\"))) # Add output layer\n",
    "NN.build_network()\n",
    "\n",
    "L = NN.fit_batch(X_train,y_train,toll = 0.01)\n",
    "y_pred = NN.predict(X_test)\n",
    "\n",
    "# Evaluate correcy preditions\n",
    "y_pred[y_pred > 0.5] = 1\n",
    "y_pred[y_pred < 0.5] = 0\n",
    "print(\"Percentage of correct predictions: %.2f \"%float(sum(y_pred==y_test)/len(y_pred)))"
   ]
  },
  {
   "cell_type": "markdown",
   "id": "a0ba325a-c52b-411e-8eed-57382f99ce25",
   "metadata": {},
   "source": [
    "With dropout:"
   ]
  },
  {
   "cell_type": "code",
   "execution_count": 8,
   "id": "37e3d7b3-7093-4681-a0e1-c6875190867a",
   "metadata": {},
   "outputs": [
    {
     "name": "stdout",
     "output_type": "stream",
     "text": [
      "Percentage of correct predictions with dropout: 0.80 \n"
     ]
    }
   ],
   "source": [
    "NN = NeuralNetwork(learning_rate=0.01,max_epochs=100,type_loss=\"mse\")\n",
    "NN.add(Layer(4)) # Add input layer\n",
    "NN.add(Layer(20, dropout_percentile=0.4, activation_function=ActivationLayer(\"sigmoid\"))) # Add hidden layer\n",
    "NN.add(Layer(1, dropout_percentile=0.3, activation_function=ActivationLayer(\"sigmoid\"))) # Add output layer\n",
    "NN.build_network()\n",
    "\n",
    "L = NN.fit_batch(X_train,y_train,toll = 0.1)\n",
    "y_pred = NN.predict(X_test)\n",
    "\n",
    "# Evaluate correcy preditions\n",
    "y_pred[y_pred > 0.5] = 1\n",
    "y_pred[y_pred < 0.5] = 0\n",
    "print(\"Percentage of correct predictions with dropout: %.2f \"%float(sum(y_pred==y_test)/len(y_pred)))"
   ]
  },
  {
   "cell_type": "code",
   "execution_count": null,
   "id": "daffdab2-112b-4e4a-8fcc-e0d2205ea78c",
   "metadata": {},
   "outputs": [],
   "source": []
  }
 ],
 "metadata": {
  "kernelspec": {
   "display_name": "Python 3 (ipykernel)",
   "language": "python",
   "name": "python3"
  },
  "language_info": {
   "codemirror_mode": {
    "name": "ipython",
    "version": 3
   },
   "file_extension": ".py",
   "mimetype": "text/x-python",
   "name": "python",
   "nbconvert_exporter": "python",
   "pygments_lexer": "ipython3",
   "version": "3.9.12"
  }
 },
 "nbformat": 4,
 "nbformat_minor": 5
}
