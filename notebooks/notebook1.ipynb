{
 "cells": [
  {
   "cell_type": "markdown",
   "metadata": {},
   "source": [
    "# Task 1"
   ]
  },
  {
   "cell_type": "code",
   "execution_count": 1,
   "metadata": {},
   "outputs": [],
   "source": [
    "import sys\n",
    "sys.path.insert(0, '/Users/laerte/pam_ai/pam_ai/src')\n",
    "import random\n",
    "\n",
    "from Task_1.agent import GameAgent\n",
    "from Task_1.grid import GameGrid\n",
    "from Task_1.simple_search import SimpleSearch"
   ]
  },
  {
   "cell_type": "markdown",
   "metadata": {},
   "source": [
    "### Initialise the objects"
   ]
  },
  {
   "cell_type": "markdown",
   "metadata": {},
   "source": [
    "Initiate the grid with given dimesions"
   ]
  },
  {
   "cell_type": "code",
   "execution_count": 5,
   "metadata": {},
   "outputs": [
    {
     "name": "stdout",
     "output_type": "stream",
     "text": [
      "[[5 4 2 8 5 4 6 7 5 7]\n",
      " [4 8 5 2 8 4 8 2 6 1]\n",
      " [5 5 2 6 8 6 5 1 6 2]\n",
      " [5 4 8 0 2 3 5 5 6 5]\n",
      " [8 6 6 1 4 1 0 3 4 0]]\n"
     ]
    }
   ],
   "source": [
    "# The object game_agent is employed to store agent position and the overall value of game movements\n",
    "ag = GameAgent(0,0)\n",
    "\n",
    "# Generate a 5 x 10 grid\n",
    "gd = GameGrid(5,10)\n",
    "gd.generate_grid()\n",
    "print(gd.grid)\n",
    "\n",
    "# Store the grid in a variable random_grid\n",
    "#random_grid = gd.grid"
   ]
  },
  {
   "cell_type": "code",
   "execution_count": 6,
   "metadata": {},
   "outputs": [],
   "source": [
    "simple_search = SimpleSearch(ag,gd)\n",
    "simple_search.compute_path()"
   ]
  },
  {
   "cell_type": "code",
   "execution_count": 8,
   "metadata": {},
   "outputs": [
    {
     "data": {
      "text/plain": [
       "'R R D D D R D R R R R R R'"
      ]
     },
     "execution_count": 8,
     "metadata": {},
     "output_type": "execute_result"
    }
   ],
   "source": [
    "ag.path\n",
    "\n"
   ]
  },
  {
   "cell_type": "markdown",
   "metadata": {},
   "source": [
    "Struttura di esempio: \n",
    "\n",
    "- inizializza il tutto\n",
    "- fai un loop, magari con il while\n",
    "- per ogni step, valuta la direzione con .evaluate_direction\n",
    "- muoviti e aggiorna posizione e somma totale "
   ]
  }
 ],
 "metadata": {
  "kernelspec": {
   "display_name": "Python 3.9.12 ('base')",
   "language": "python",
   "name": "python3"
  },
  "language_info": {
   "codemirror_mode": {
    "name": "ipython",
    "version": 3
   },
   "file_extension": ".py",
   "mimetype": "text/x-python",
   "name": "python",
   "nbconvert_exporter": "python",
   "pygments_lexer": "ipython3",
   "version": "3.9.12"
  },
  "orig_nbformat": 4,
  "vscode": {
   "interpreter": {
    "hash": "a11640e5245ad0f34fe0cdeea20437e510ff33c9f9dcf4e6a0ac9c532d2ef1e1"
   }
  }
 },
 "nbformat": 4,
 "nbformat_minor": 2
}
