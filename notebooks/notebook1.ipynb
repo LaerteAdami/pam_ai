{
 "cells": [
  {
   "cell_type": "markdown",
   "metadata": {},
   "source": [
    "# Task 1"
   ]
  },
  {
   "cell_type": "code",
   "execution_count": 6,
   "metadata": {},
   "outputs": [],
   "source": [
    "import sys\n",
    "sys.path.insert(0, '/Users/laerte/pam_ai/pam_ai/src')\n",
    "import random\n",
    "\n",
    "from Task_1.agent import GameAgent\n",
    "from Task_1.grid import GameGrid\n",
    "from Task_1.simple_search import SimpleSearch"
   ]
  },
  {
   "cell_type": "markdown",
   "metadata": {},
   "source": [
    "### Initialise the objects"
   ]
  },
  {
   "cell_type": "markdown",
   "metadata": {},
   "source": [
    "Initiate the grid with given dimesions"
   ]
  },
  {
   "cell_type": "code",
   "execution_count": 7,
   "metadata": {},
   "outputs": [
    {
     "name": "stdout",
     "output_type": "stream",
     "text": [
      "[[6 4 5 4 7 4 5 8 4 3]\n",
      " [2 4 8 0 7 6 5 6 2 5]\n",
      " [0 0 0 6 6 8 8 1 2 7]\n",
      " [7 5 0 8 7 8 5 6 1 3]\n",
      " [2 4 3 1 6 0 4 1 2 1]]\n"
     ]
    }
   ],
   "source": [
    "# The object game_agent is employed to store agent position and the overall value of game movements\n",
    "ag = GameAgent(0,0)\n",
    "\n",
    "# Generate a 5 x 10 grid\n",
    "gd = GameGrid(5,10)\n",
    "gd.generate_grid()\n",
    "print(gd.grid)\n",
    "\n",
    "# Store the grid in a variable random_grid\n",
    "#random_grid = gd.grid"
   ]
  },
  {
   "cell_type": "code",
   "execution_count": 8,
   "metadata": {},
   "outputs": [],
   "source": [
    "simple_search = SimpleSearch(ag,gd)"
   ]
  },
  {
   "cell_type": "code",
   "execution_count": 10,
   "metadata": {},
   "outputs": [
    {
     "ename": "AttributeError",
     "evalue": "'SimpleSearch' object has no attribute 'compute_time'",
     "output_type": "error",
     "traceback": [
      "\u001b[0;31m---------------------------------------------------------------------------\u001b[0m",
      "\u001b[0;31mAttributeError\u001b[0m                            Traceback (most recent call last)",
      "\u001b[0;32m/var/folders/77/jcbrc_k11bd_k18lx0dw2qdw0000gn/T/ipykernel_15818/2531263239.py\u001b[0m in \u001b[0;36m<module>\u001b[0;34m\u001b[0m\n\u001b[0;32m----> 1\u001b[0;31m \u001b[0msimple_search\u001b[0m\u001b[0;34m.\u001b[0m\u001b[0mcompute_path\u001b[0m\u001b[0;34m(\u001b[0m\u001b[0;34m)\u001b[0m\u001b[0;34m\u001b[0m\u001b[0;34m\u001b[0m\u001b[0m\n\u001b[0m",
      "\u001b[0;32m~/pam_ai/pam_ai/src/Task_1/simple_search.py\u001b[0m in \u001b[0;36mcompute_path\u001b[0;34m(self)\u001b[0m\n\u001b[1;32m     42\u001b[0m             \u001b[0;32mif\u001b[0m \u001b[0mi\u001b[0m \u001b[0;34m==\u001b[0m \u001b[0mh\u001b[0m\u001b[0;34m:\u001b[0m \u001b[0;31m# only move right\u001b[0m\u001b[0;34m\u001b[0m\u001b[0;34m\u001b[0m\u001b[0m\n\u001b[1;32m     43\u001b[0m                 \u001b[0mmove\u001b[0m \u001b[0;34m=\u001b[0m \u001b[0;34m\"R\"\u001b[0m\u001b[0;34m\u001b[0m\u001b[0;34m\u001b[0m\u001b[0m\n\u001b[0;32m---> 44\u001b[0;31m                 \u001b[0mtimer\u001b[0m \u001b[0;34m+=\u001b[0m \u001b[0mself\u001b[0m\u001b[0;34m.\u001b[0m\u001b[0mgrid\u001b[0m\u001b[0;34m[\u001b[0m\u001b[0mi\u001b[0m\u001b[0;34m,\u001b[0m\u001b[0mj\u001b[0m\u001b[0;34m+\u001b[0m\u001b[0;36m1\u001b[0m\u001b[0;34m]\u001b[0m\u001b[0;34m\u001b[0m\u001b[0;34m\u001b[0m\u001b[0m\n\u001b[0m\u001b[1;32m     45\u001b[0m                 \u001b[0mj\u001b[0m\u001b[0;34m+=\u001b[0m\u001b[0;36m1\u001b[0m\u001b[0;34m\u001b[0m\u001b[0;34m\u001b[0m\u001b[0m\n\u001b[1;32m     46\u001b[0m                 \u001b[0mpath\u001b[0m\u001b[0;34m.\u001b[0m\u001b[0mappend\u001b[0m\u001b[0;34m(\u001b[0m\u001b[0mmove\u001b[0m\u001b[0;34m)\u001b[0m\u001b[0;34m\u001b[0m\u001b[0;34m\u001b[0m\u001b[0m\n",
      "\u001b[0;31mAttributeError\u001b[0m: 'SimpleSearch' object has no attribute 'compute_time'"
     ]
    }
   ],
   "source": [
    "simple_search.compute_path()"
   ]
  },
  {
   "cell_type": "markdown",
   "metadata": {},
   "source": [
    "def compute_time(i,j,random_grid, h, w):\n",
    "\n",
    "    if (j > w or i > h):\n",
    "        return 0 \n",
    "\n",
    "    return random_grid[i,j] \n",
    "    \n",
    "h = random_grid.shape[0]-1\n",
    "w = random_grid.shape[1]-1\n",
    "path = []\n",
    "\n",
    "position = [0,0] # position of the agent\n",
    "timer = random_grid[0,0]\n",
    "i = position[0] # horizontal position\n",
    "j = position[1] # vertical position\n",
    "\n",
    "while not((i==h) and (j==w)):\n",
    "\n",
    "    if j == w: # only move down\n",
    "        move = \"D\"\n",
    "        timer += random_grid[i+1,j]\n",
    "        i+=1\n",
    "        path.append(move)\n",
    "        continue\n",
    "\n",
    "    if i == h: # only move right\n",
    "        move = \"R\"\n",
    "        timer += random_grid[i,j+1]\n",
    "        j+=1\n",
    "        path.append(move)\n",
    "        continue\n",
    "\n",
    "    # right cell\n",
    "    time_right = compute_time(i+1, j+1,random_grid, h, w) + compute_time(i, j+1,random_grid, h, w) + compute_time(i, j+2,random_grid, h, w)#+compute_time(i+1, j+1,random_grid, h, w)\n",
    "\n",
    "    # down cell\n",
    "    time_down = compute_time(i+1, j,random_grid, h, w) + compute_time(i+2, j,random_grid, h, w)+compute_time(i+1, j+1,random_grid, h, w)\n",
    "\n",
    "    #time_down = random_grid[i+1, j] + random_grid[i+2, j] + random_grid[i+1, j+1]\n",
    "\n",
    "    if time_right < time_down:\n",
    "        move = \"R\"\n",
    "        timer += random_grid[i,j+1]\n",
    "        j+=1\n",
    "    else:\n",
    "        move = \"D\"\n",
    "        timer += random_grid[i+1,j]\n",
    "        i+=1\n",
    "\n",
    "    path.append(move)\n",
    "    \n",
    "print(\" \".join(path))        "
   ]
  },
  {
   "cell_type": "code",
   "execution_count": 52,
   "metadata": {},
   "outputs": [
    {
     "name": "stdout",
     "output_type": "stream",
     "text": [
      "ok\n"
     ]
    }
   ],
   "source": [
    "j = 10 \n",
    "w = 9\n",
    "i = 0 \n",
    "h = 5\n",
    "if (j > w or i > h):\n",
    "    print(\"ok\")"
   ]
  },
  {
   "cell_type": "markdown",
   "metadata": {},
   "source": [
    "Struttura di esempio: \n",
    "\n",
    "- inizializza il tutto\n",
    "- fai un loop, magari con il while\n",
    "- per ogni step, valuta la direzione con .evaluate_direction\n",
    "- muoviti e aggiorna posizione e somma totale "
   ]
  }
 ],
 "metadata": {
  "kernelspec": {
   "display_name": "Python 3.9.12 ('base')",
   "language": "python",
   "name": "python3"
  },
  "language_info": {
   "codemirror_mode": {
    "name": "ipython",
    "version": 3
   },
   "file_extension": ".py",
   "mimetype": "text/x-python",
   "name": "python",
   "nbconvert_exporter": "python",
   "pygments_lexer": "ipython3",
   "version": "3.9.12"
  },
  "orig_nbformat": 4,
  "vscode": {
   "interpreter": {
    "hash": "a11640e5245ad0f34fe0cdeea20437e510ff33c9f9dcf4e6a0ac9c532d2ef1e1"
   }
  }
 },
 "nbformat": 4,
 "nbformat_minor": 2
}
