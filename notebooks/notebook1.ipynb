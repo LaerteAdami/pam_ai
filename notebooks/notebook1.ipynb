{
 "cells": [
  {
   "cell_type": "markdown",
   "metadata": {},
   "source": [
    "# Task 1"
   ]
  },
  {
   "cell_type": "code",
   "execution_count": 11,
   "metadata": {},
   "outputs": [],
   "source": [
    "import sys\n",
    "sys.path.insert(0, '/Users/laerte/pam_ai/pam_ai/src')\n",
    "import random\n",
    "\n",
    "#from Task_1.agent import GameAgent\n",
    "from Task_1.grid import GameGrid\n",
    "from Task_1.simple_search import SimpleSearch"
   ]
  },
  {
   "cell_type": "markdown",
   "metadata": {},
   "source": [
    "### Initialise the objects"
   ]
  },
  {
   "cell_type": "code",
   "execution_count": null,
   "metadata": {},
   "outputs": [],
   "source": [
    "# The object game_agent is employed to store agent position and the overall value of game movements\n",
    "ag = GameAgent(0,0)"
   ]
  },
  {
   "cell_type": "markdown",
   "metadata": {},
   "source": [
    "Initiate the grid with given dimesions"
   ]
  },
  {
   "cell_type": "code",
   "execution_count": 12,
   "metadata": {},
   "outputs": [
    {
     "name": "stdout",
     "output_type": "stream",
     "text": [
      "[[5 8 2 5 8 0 0 5 0 6]\n",
      " [8 7 1 4 6 6 5 0 8 0]\n",
      " [8 8 8 7 1 0 2 1 6 2]\n",
      " [0 3 3 4 1 2 1 3 4 1]\n",
      " [4 3 0 1 7 3 7 7 5 2]]\n"
     ]
    }
   ],
   "source": [
    "# Generate a 5 x 10 grid\n",
    "gd = GameGrid(5,10)\n",
    "gd.generate_grid()\n",
    "print(gd.grid)\n",
    "\n",
    "# Store the grid in a variable random_grid\n",
    "random_grid = gd.grid"
   ]
  },
  {
   "cell_type": "code",
   "execution_count": 40,
   "metadata": {},
   "outputs": [],
   "source": [
    "def compute_time(i,j,random_grid, h, w):\n",
    "\n",
    "    if (j+1) >= w or (i+1) >= h:\n",
    "        pass\n",
    "\n",
    "    return random_grid[i,j]    "
   ]
  },
  {
   "cell_type": "code",
   "execution_count": 47,
   "metadata": {},
   "outputs": [
    {
     "name": "stdout",
     "output_type": "stream",
     "text": [
      "R \n"
     ]
    },
    {
     "ename": "KeyboardInterrupt",
     "evalue": "",
     "output_type": "error",
     "traceback": [
      "\u001b[0;31m---------------------------------------------------------------------------\u001b[0m",
      "\u001b[0;31mKeyboardInterrupt\u001b[0m                         Traceback (most recent call last)",
      "\u001b[0;32m~/opt/anaconda3/lib/python3.9/site-packages/IPython/core/async_helpers.py\u001b[0m in \u001b[0;36m_pseudo_sync_runner\u001b[0;34m(coro)\u001b[0m\n\u001b[1;32m     76\u001b[0m     \"\"\"\n\u001b[1;32m     77\u001b[0m     \u001b[0;32mtry\u001b[0m\u001b[0;34m:\u001b[0m\u001b[0;34m\u001b[0m\u001b[0;34m\u001b[0m\u001b[0m\n\u001b[0;32m---> 78\u001b[0;31m         \u001b[0mcoro\u001b[0m\u001b[0;34m.\u001b[0m\u001b[0msend\u001b[0m\u001b[0;34m(\u001b[0m\u001b[0;32mNone\u001b[0m\u001b[0;34m)\u001b[0m\u001b[0;34m\u001b[0m\u001b[0;34m\u001b[0m\u001b[0m\n\u001b[0m\u001b[1;32m     79\u001b[0m     \u001b[0;32mexcept\u001b[0m \u001b[0mStopIteration\u001b[0m \u001b[0;32mas\u001b[0m \u001b[0mexc\u001b[0m\u001b[0;34m:\u001b[0m\u001b[0;34m\u001b[0m\u001b[0;34m\u001b[0m\u001b[0m\n\u001b[1;32m     80\u001b[0m         \u001b[0;32mreturn\u001b[0m \u001b[0mexc\u001b[0m\u001b[0;34m.\u001b[0m\u001b[0mvalue\u001b[0m\u001b[0;34m\u001b[0m\u001b[0;34m\u001b[0m\u001b[0m\n",
      "\u001b[0;32m_pydevd_bundle/pydevd_cython.pyx\u001b[0m in \u001b[0;36m_pydevd_bundle.pydevd_cython.trace_dispatch\u001b[0;34m()\u001b[0m\n",
      "\u001b[0;32m~/opt/anaconda3/lib/python3.9/site-packages/debugpy/_vendored/pydevd/pydevd.py\u001b[0m in \u001b[0;36menable_tracing\u001b[0;34m(self, thread_trace_func, apply_to_all_threads)\u001b[0m\n\u001b[1;32m   1064\u001b[0m                 \u001b[0mself\u001b[0m\u001b[0;34m.\u001b[0m\u001b[0m_local_thread_trace_func\u001b[0m\u001b[0;34m.\u001b[0m\u001b[0mthread_trace_func\u001b[0m \u001b[0;34m=\u001b[0m \u001b[0mthread_trace_func\u001b[0m\u001b[0;34m\u001b[0m\u001b[0;34m\u001b[0m\u001b[0m\n\u001b[1;32m   1065\u001b[0m \u001b[0;34m\u001b[0m\u001b[0m\n\u001b[0;32m-> 1066\u001b[0;31m         \u001b[0mpydevd_tracing\u001b[0m\u001b[0;34m.\u001b[0m\u001b[0mSetTrace\u001b[0m\u001b[0;34m(\u001b[0m\u001b[0mthread_trace_func\u001b[0m\u001b[0;34m)\u001b[0m\u001b[0;34m\u001b[0m\u001b[0;34m\u001b[0m\u001b[0m\n\u001b[0m\u001b[1;32m   1067\u001b[0m         \u001b[0;32mif\u001b[0m \u001b[0mIS_CPYTHON\u001b[0m \u001b[0;32mand\u001b[0m \u001b[0mapply_to_all_threads\u001b[0m\u001b[0;34m:\u001b[0m\u001b[0;34m\u001b[0m\u001b[0;34m\u001b[0m\u001b[0m\n\u001b[1;32m   1068\u001b[0m             \u001b[0mpydevd_tracing\u001b[0m\u001b[0;34m.\u001b[0m\u001b[0mset_trace_to_threads\u001b[0m\u001b[0;34m(\u001b[0m\u001b[0mthread_trace_func\u001b[0m\u001b[0;34m)\u001b[0m\u001b[0;34m\u001b[0m\u001b[0;34m\u001b[0m\u001b[0m\n",
      "\u001b[0;32m~/opt/anaconda3/lib/python3.9/site-packages/debugpy/_vendored/pydevd/pydevd_tracing.py\u001b[0m in \u001b[0;36mSetTrace\u001b[0;34m(tracing_func)\u001b[0m\n\u001b[1;32m     81\u001b[0m \u001b[0;32mdef\u001b[0m \u001b[0mSetTrace\u001b[0m\u001b[0;34m(\u001b[0m\u001b[0mtracing_func\u001b[0m\u001b[0;34m)\u001b[0m\u001b[0;34m:\u001b[0m\u001b[0;34m\u001b[0m\u001b[0;34m\u001b[0m\u001b[0m\n\u001b[1;32m     82\u001b[0m     \u001b[0;32mif\u001b[0m \u001b[0mtracing_func\u001b[0m \u001b[0;32mis\u001b[0m \u001b[0;32mnot\u001b[0m \u001b[0;32mNone\u001b[0m\u001b[0;34m:\u001b[0m\u001b[0;34m\u001b[0m\u001b[0;34m\u001b[0m\u001b[0m\n\u001b[0;32m---> 83\u001b[0;31m         \u001b[0;32mif\u001b[0m \u001b[0mset_trace_to_threads\u001b[0m\u001b[0;34m(\u001b[0m\u001b[0mtracing_func\u001b[0m\u001b[0;34m,\u001b[0m \u001b[0mthread_idents\u001b[0m\u001b[0;34m=\u001b[0m\u001b[0;34m[\u001b[0m\u001b[0mthread\u001b[0m\u001b[0;34m.\u001b[0m\u001b[0mget_ident\u001b[0m\u001b[0;34m(\u001b[0m\u001b[0;34m)\u001b[0m\u001b[0;34m]\u001b[0m\u001b[0;34m,\u001b[0m \u001b[0mcreate_dummy_thread\u001b[0m\u001b[0;34m=\u001b[0m\u001b[0;32mFalse\u001b[0m\u001b[0;34m)\u001b[0m \u001b[0;34m==\u001b[0m \u001b[0;36m0\u001b[0m\u001b[0;34m:\u001b[0m\u001b[0;34m\u001b[0m\u001b[0;34m\u001b[0m\u001b[0m\n\u001b[0m\u001b[1;32m     84\u001b[0m             \u001b[0;31m# If we can use our own tracer instead of the one from sys.settrace, do it (the reason\u001b[0m\u001b[0;34m\u001b[0m\u001b[0;34m\u001b[0m\u001b[0m\n\u001b[1;32m     85\u001b[0m             \u001b[0;31m# is that this is faster than the Python version because we don't call\u001b[0m\u001b[0;34m\u001b[0m\u001b[0;34m\u001b[0m\u001b[0m\n",
      "\u001b[0;32m~/opt/anaconda3/lib/python3.9/site-packages/debugpy/_vendored/pydevd/pydevd_tracing.py\u001b[0m in \u001b[0;36mset_trace_to_threads\u001b[0;34m(tracing_func, thread_idents, create_dummy_thread)\u001b[0m\n\u001b[1;32m    343\u001b[0m         \u001b[0mstart_new_thread\u001b[0m \u001b[0;34m=\u001b[0m \u001b[0mpydev_monkey\u001b[0m\u001b[0;34m.\u001b[0m\u001b[0mget_original_start_new_thread\u001b[0m\u001b[0;34m(\u001b[0m\u001b[0mthread\u001b[0m\u001b[0;34m)\u001b[0m\u001b[0;34m\u001b[0m\u001b[0;34m\u001b[0m\u001b[0m\n\u001b[1;32m    344\u001b[0m         \u001b[0mstart_new_thread\u001b[0m\u001b[0;34m(\u001b[0m\u001b[0mincrease_tracing_count\u001b[0m\u001b[0;34m,\u001b[0m \u001b[0;34m(\u001b[0m\u001b[0;34m)\u001b[0m\u001b[0;34m)\u001b[0m\u001b[0;34m\u001b[0m\u001b[0;34m\u001b[0m\u001b[0m\n\u001b[0;32m--> 345\u001b[0;31m         \u001b[0mproceed\u001b[0m\u001b[0;34m.\u001b[0m\u001b[0macquire\u001b[0m\u001b[0;34m(\u001b[0m\u001b[0;34m)\u001b[0m  \u001b[0;31m# Only proceed after the release() is done.\u001b[0m\u001b[0;34m\u001b[0m\u001b[0;34m\u001b[0m\u001b[0m\n\u001b[0m\u001b[1;32m    346\u001b[0m         \u001b[0mproceed\u001b[0m \u001b[0;34m=\u001b[0m \u001b[0;32mNone\u001b[0m\u001b[0;34m\u001b[0m\u001b[0;34m\u001b[0m\u001b[0m\n\u001b[1;32m    347\u001b[0m \u001b[0;34m\u001b[0m\u001b[0m\n",
      "\u001b[0;31mKeyboardInterrupt\u001b[0m: "
     ]
    }
   ],
   "source": [
    "from operator import concat\n",
    "\n",
    "\n",
    "h = random_grid.shape[0]\n",
    "w = random_grid.shape[1]\n",
    "path = \"\"\n",
    "\n",
    "position = [0,8] # position of the agent\n",
    "timer = random_grid[0,0]\n",
    "i = position[0] # horizontal position\n",
    "j = position[1] # vertical position\n",
    "\n",
    "while (i+1)!=h and (j+1)!=w:\n",
    "\n",
    "    if (j+1) == w: # only move down\n",
    "        move = \"D\"\n",
    "        timer += random_grid[i+1,j]\n",
    "        i+=1\n",
    "        continue\n",
    "\n",
    "    if (i+1) == h: # only move right\n",
    "        move = \"R\"\n",
    "        timer += random_grid[i,j+1]\n",
    "        j+=1\n",
    "        continue\n",
    "\n",
    "    # right cell\n",
    "    time_right = compute_time(i, j+1,random_grid, h, w) #+ random_grid[i, j+2] + random_grid[i+1, j+1]\n",
    "\n",
    "    # down cell\n",
    "    time_down = random_grid[i+1, j] + random_grid[i+2, j] + random_grid[i+1, j+1]\n",
    "\n",
    "    if time_right < time_down:\n",
    "        move = \"R\"\n",
    "        timer += random_grid[i+1,j]\n",
    "        i+=1\n",
    "    else:\n",
    "        move = \"D\"\n",
    "        timer += random_grid[i,j+1]\n",
    "        j+=1\n",
    "\n",
    "    path += concat(move, \" \")\n",
    "\n",
    "print(path)        "
   ]
  },
  {
   "cell_type": "markdown",
   "metadata": {},
   "source": [
    "Struttura di esempio: \n",
    "\n",
    "- inizializza il tutto\n",
    "- fai un loop, magari con il while\n",
    "- per ogni step, valuta la direzione con .evaluate_direction\n",
    "- muoviti e aggiorna posizione e somma totale "
   ]
  }
 ],
 "metadata": {
  "kernelspec": {
   "display_name": "Python 3.9.12 ('base')",
   "language": "python",
   "name": "python3"
  },
  "language_info": {
   "codemirror_mode": {
    "name": "ipython",
    "version": 3
   },
   "file_extension": ".py",
   "mimetype": "text/x-python",
   "name": "python",
   "nbconvert_exporter": "python",
   "pygments_lexer": "ipython3",
   "version": "3.9.12"
  },
  "orig_nbformat": 4,
  "vscode": {
   "interpreter": {
    "hash": "a11640e5245ad0f34fe0cdeea20437e510ff33c9f9dcf4e6a0ac9c532d2ef1e1"
   }
  }
 },
 "nbformat": 4,
 "nbformat_minor": 2
}
