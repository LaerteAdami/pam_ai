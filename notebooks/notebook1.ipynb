{
 "cells": [
  {
   "cell_type": "markdown",
   "metadata": {},
   "source": [
    "# Task 1"
   ]
  },
  {
   "cell_type": "code",
   "execution_count": 1,
   "metadata": {},
   "outputs": [],
   "source": [
    "import sys\n",
    "sys.path.insert(0, '/Users/laerte/pam_ai/pam_ai/src')\n",
    "import random\n",
    "import matplotlib.pyplot as plt\n",
    "import numpy as np\n",
    "\n",
    "\n",
    "from Task_1.agent import GameAgent\n",
    "from Task_1.grid import GameGrid\n",
    "from Task_1.simple_search import SimpleSearch"
   ]
  },
  {
   "cell_type": "markdown",
   "metadata": {},
   "source": [
    "### Initialise the objects"
   ]
  },
  {
   "cell_type": "code",
   "execution_count": 2,
   "metadata": {},
   "outputs": [
    {
     "data": {
      "image/png": "[encoded data removed]",
      "text/plain": [
       "<Figure size 640x480 with 1 Axes>"
      ]
     },
     "metadata": {},
     "output_type": "display_data"
    }
   ],
   "source": [
    "# The object GameAgent is employed to store agent position and the overall value of game movements\n",
    "# It is initated given the initial position of the agent, i.e., (0,0) to make it start at left-upper corner\n",
    "ag = GameAgent(0,0)\n",
    "\n",
    "# The grid initiated and printed using the GameGrid class. \n",
    "# It requires as argumentes the vertical and horizontal dimensions of the grid\n",
    "gd = GameGrid(7,10) \n",
    "gd.generate_grid()\n",
    "gd.print_grid()\n"
   ]
  },
  {
   "cell_type": "markdown",
   "metadata": {},
   "source": [
    "### Simple Search"
   ]
  },
  {
   "cell_type": "code",
   "execution_count": 3,
   "metadata": {},
   "outputs": [],
   "source": [
    "simple_search = SimpleSearch(ag,gd)\n",
    "simple_search.compute_path()"
   ]
  },
  {
   "cell_type": "code",
   "execution_count": 4,
   "metadata": {},
   "outputs": [
    {
     "name": "stdout",
     "output_type": "stream",
     "text": [
      "{0, (6, 2), (4, 0), (6, 5), (6, 9), (6, 1), (6, 8), (2, 0), (5, 1), (6, 4), (3, 0), (6, 6), (6, 7), (1, 0), (6, 3), (4, 1)}\n"
     ]
    }
   ],
   "source": [
    "print(simple_search.visited_set)"
   ]
  },
  {
   "cell_type": "markdown",
   "metadata": {},
   "source": [
    "### Dijkstra Search\n"
   ]
  },
  {
   "cell_type": "code",
   "execution_count": 17,
   "metadata": {},
   "outputs": [
    {
     "name": "stdout",
     "output_type": "stream",
     "text": [
      "[[1 7 3 8]\n",
      " [4 0 5 6]\n",
      " [1 7 8 9]]\n"
     ]
    }
   ],
   "source": [
    "M = np.array([[1,7,3,8],[4,0,5,6],[1,7,8,9]])\n",
    "print(M)"
   ]
  },
  {
   "cell_type": "code",
   "execution_count": 5,
   "metadata": {},
   "outputs": [],
   "source": [
    "i = 0\n",
    "j = 0\n",
    "\n"
   ]
  },
  {
   "cell_type": "code",
   "execution_count": 6,
   "metadata": {},
   "outputs": [],
   "source": []
  }
 ],
 "metadata": {
  "kernelspec": {
   "display_name": "Python 3.9.12 ('base')",
   "language": "python",
   "name": "python3"
  },
  "language_info": {
   "codemirror_mode": {
    "name": "ipython",
    "version": 3
   },
   "file_extension": ".py",
   "mimetype": "text/x-python",
   "name": "python",
   "nbconvert_exporter": "python",
   "pygments_lexer": "ipython3",
   "version": "3.9.12"
  },
  "orig_nbformat": 4,
  "vscode": {
   "interpreter": {
    "hash": "a11640e5245ad0f34fe0cdeea20437e510ff33c9f9dcf4e6a0ac9c532d2ef1e1"
   }
  }
 },
 "nbformat": 4,
 "nbformat_minor": 2
}
