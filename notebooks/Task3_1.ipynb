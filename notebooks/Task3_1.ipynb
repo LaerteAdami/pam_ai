{
  "cells": [
    {
      "cell_type": "markdown",
      "id": "a2cf0bd8-7d5c-4f5d-8767-34e59c0d5dd8",
      "metadata": {
        "id": "a2cf0bd8-7d5c-4f5d-8767-34e59c0d5dd8"
      },
      "source": [
        "# Task 3 - Convolutional Neural Network"
      ]
    },
    {
      "cell_type": "code",
      "execution_count": null,
      "id": "5b73656d-888a-4eaf-bcbb-09081ba8eca1",
      "metadata": {
        "id": "5b73656d-888a-4eaf-bcbb-09081ba8eca1"
      },
      "outputs": [],
      "source": [
        "import numpy as np\n",
        "import torch\n",
        "import torch.nn as nn\n",
        "import torch.nn.functional as F\n",
        "from torch.utils.data import DataLoader, TensorDataset\n",
        "import torchvision.transforms as transforms\n",
        "import matplotlib.pyplot as plt\n",
        "import pandas as pd\n",
        "from sklearn.metrics import accuracy_score"
      ]
    },
    {
      "cell_type": "code",
      "execution_count": null,
      "id": "1e566666-91de-4510-abe0-c11cbf33cab4",
      "metadata": {
        "colab": {
          "base_uri": "https://localhost:8080/"
        },
        "id": "1e566666-91de-4510-abe0-c11cbf33cab4",
        "outputId": "7c4d01d2-f050-44b2-d9d7-81292ff7df72"
      },
      "outputs": [
        {
          "output_type": "execute_result",
          "data": {
            "text/plain": [
              "device(type='cuda')"
            ]
          },
          "metadata": {},
          "execution_count": 2
        }
      ],
      "source": [
        "#\n",
        "if torch.cuda.is_available():\n",
        "    device = torch.device('cuda')\n",
        "else:\n",
        "    device = torch.device('cpu')\n",
        "\n",
        "device"
      ]
    },
    {
      "cell_type": "code",
      "source": [
        "class VanillaNN(nn.Module):\n",
        "    \n",
        "    def __init__(self, num_classes=10):\n",
        "        super(VanillaNN, self).__init__()\n",
        "        #First unit of convolution\n",
        "        self.network = nn.Sequential(\n",
        "            \n",
        "            ## FEATURE LEARNING ##\n",
        "            nn.Conv2d(1, 32, kernel_size=3, stride=1, padding=1),\n",
        "            nn.ReLU(),\n",
        "            nn.Conv2d(32, 64, kernel_size=5, stride=1, padding=2),\n",
        "            nn.ReLU(),\n",
        "            nn.MaxPool2d(kernel_size=2, stride=2), # 14x14x64\n",
        "      \n",
        "            nn.Conv2d(64, 128, kernel_size=3, stride=1, padding=1),\n",
        "            nn.ReLU(),\n",
        "            nn.Conv2d(128, 64, kernel_size=5, stride=1, padding=2),\n",
        "            nn.ReLU(),\n",
        "            nn.MaxPool2d(kernel_size=2, stride=2), # 7 x 7 x 64\n",
        "\n",
        "            ## CLASSIFICATION ##\n",
        "            nn.Flatten(),\n",
        "\n",
        "            nn.Linear(7*7*64, 128),\n",
        "            nn.ReLU(),\n",
        "            nn.Linear(128, 10),\n",
        "            nn.Softmax(dim=1))\n",
        "\n",
        "    def forward(self, x):\n",
        "        return self.network(x)\n",
        "\n"
      ],
      "metadata": {
        "id": "IyzgyMcmCvCb"
      },
      "id": "IyzgyMcmCvCb",
      "execution_count": null,
      "outputs": []
    },
    {
      "cell_type": "code",
      "source": [
        "class NeuralNetwork():\n",
        "    \n",
        "    def __init__(self, nn):\n",
        "        self.nn = nn\n",
        "    \n",
        "    def initialise(self, loss_function, optimizer):\n",
        "    \n",
        "        self.loss_function = loss_function\n",
        "        self.optimizer = optimizer\n",
        "        \n",
        "    def fit(self, data_loader, max_epochs):\n",
        "        \n",
        "        L_history = []\n",
        "                       \n",
        "        for epoch in range(max_epochs):\n",
        "\n",
        "            self.nn.train()\n",
        "            \n",
        "            L_batch = 0.0\n",
        "            \n",
        "            for data, target in data_loader:\n",
        "                \n",
        "                data = data.to(device)\n",
        "                target = target.to(device)\n",
        "            \n",
        "                # Set gradients to zero\n",
        "                self.optimizer.zero_grad()\n",
        "    \n",
        "                # Forward pass\n",
        "                output = self.nn(data)\n",
        "    \n",
        "                # Compute loss \n",
        "                L = self.loss_function(output, target)\n",
        "    \n",
        "                # Backward pass\n",
        "                L.backward()\n",
        "        \n",
        "                # Weights update\n",
        "                self.optimizer.step()\n",
        "                \n",
        "                L_batch += L.item() * data.size(0)\n",
        "                \n",
        "    \n",
        "            L_history.append(L_batch/len(data_loader.sampler))\n",
        "        \n",
        "\n",
        "        self.L_history = L_history\n",
        "        \n",
        "    def predict(self, data_loader):\n",
        "        \n",
        "        self.nn.eval()\n",
        "        \n",
        "        y_pred = torch.LongTensor()\n",
        "        y_test = torch.LongTensor()\n",
        "        \n",
        "        for data, target in data_loader:\n",
        "\n",
        "            if torch.cuda.is_available():\n",
        "              data = data.cuda()\n",
        "            \n",
        "            batch_output = self.nn(data)\n",
        "            \n",
        "            # Take the index with highest probability\n",
        "            batch_preds = batch_output.cpu().data.max(1,keepdim=True)[1]\n",
        "            \n",
        "            #Combine tensors from each batch\n",
        "            y_pred = torch.cat((y_pred, batch_preds), dim=0)\n",
        "            \n",
        "            y_test = torch.cat((y_test, target), dim=0)\n",
        "            \n",
        "            return y_pred, y_test\n",
        "        \n",
        "        #print(\"Accuracy: %.2f\" % test)\n",
        "        #print(\"\\n\")\n",
        "        \n",
        "        #fig, ax = plt.subplots(figsize = (5,5))\n",
        "        #ax.plot(self.L_history)\n",
        "        #ax.set_xlabel(\"Epochs\")\n",
        "        #ax.set_ylabel(\"Loss\")\n",
        "    "
      ],
      "metadata": {
        "id": "uPOpD53YCzZ_"
      },
      "id": "uPOpD53YCzZ_",
      "execution_count": null,
      "outputs": []
    },
    {
      "cell_type": "markdown",
      "id": "0889b7bf-a3a4-420c-8a5b-a57695dedd5d",
      "metadata": {
        "id": "0889b7bf-a3a4-420c-8a5b-a57695dedd5d"
      },
      "source": [
        "## Data set"
      ]
    },
    {
      "cell_type": "markdown",
      "id": "5e605a18-4205-47e5-b51b-2b6535c0f026",
      "metadata": {
        "id": "5e605a18-4205-47e5-b51b-2b6535c0f026"
      },
      "source": [
        "Import data set:"
      ]
    },
    {
      "cell_type": "markdown",
      "id": "769696fd-28d8-4dde-8bcf-2d251c6f7386",
      "metadata": {
        "id": "769696fd-28d8-4dde-8bcf-2d251c6f7386"
      },
      "source": [
        "*Source*: https://www.kaggle.com/datasets/zalando-research/fashionmnist"
      ]
    },
    {
      "cell_type": "code",
      "execution_count": null,
      "id": "8e42363a-cffd-48cb-b19b-700acfd0dab4",
      "metadata": {
        "colab": {
          "base_uri": "https://localhost:8080/",
          "height": 306
        },
        "id": "8e42363a-cffd-48cb-b19b-700acfd0dab4",
        "outputId": "dbdf2e56-65d1-40b3-c7d2-6a7ead59ed07"
      },
      "outputs": [
        {
          "output_type": "display_data",
          "data": {
            "text/plain": [
              "<Figure size 360x360 with 25 Axes>"
            ],
            "image/png": "[encoded data removed]"
          },
          "metadata": {}
        }
      ],
      "source": [
        "# Import the data sets\n",
        "path = \"../data/fashon_MNIST/\"\n",
        "train = pd.read_csv(\"/content/drive/MyDrive/fashion-mnist_train.csv\")\n",
        "test = pd.read_csv(\"/content/drive/MyDrive/fashion-mnist_test.csv\")\n",
        "\n",
        "y_train = train[\"label\"].values\n",
        "y_test = test[\"label\"].values\n",
        "\n",
        "X_train = (train.iloc[:,1:].values).astype('float32')\n",
        "X_test = (test.iloc[:,1:].values).astype('float32')\n",
        "\n",
        "# Display some images\n",
        "fig, axes = plt.subplots(5,5, figsize=(5, 5),subplot_kw={'xticks':[], 'yticks':[]})\n",
        "for i, ax in enumerate(axes.flat):\n",
        "    ax.imshow(X_train[i].reshape(28,28), cmap=plt.get_cmap('gray'))\n",
        "    ax.text(0.05, 0.05, str(y_train[i]),  # type: ignore\n",
        "            transform=ax.transAxes, color='white')\n",
        "    \n",
        "# Reshape and normalise the data\n",
        "X_train = X_train.reshape(X_train.shape[0],1, 28, 28) / 255\n",
        "X_test = X_test.reshape(X_test.shape[0], 1, 28, 28) / 255"
      ]
    },
    {
      "cell_type": "markdown",
      "id": "61c05689-7b6e-4400-81c0-65546051a59c",
      "metadata": {
        "id": "61c05689-7b6e-4400-81c0-65546051a59c"
      },
      "source": [
        "Preprocess data for PyTorch:"
      ]
    },
    {
      "cell_type": "code",
      "execution_count": null,
      "id": "ebd11e6a-22c5-44a1-aab0-bd83cb8a0ff2",
      "metadata": {
        "id": "ebd11e6a-22c5-44a1-aab0-bd83cb8a0ff2"
      },
      "outputs": [],
      "source": [
        "# Create tensor\n",
        "X_train_tensor = torch.tensor(X_train)\n",
        "X_test_tensor = torch.tensor(X_test)\n",
        "y_train_tensor = torch.tensor(y_train, dtype=torch.long)\n",
        "y_test_tensor = torch.tensor(y_test, dtype=torch.long)\n",
        "\n",
        "#y_train_tensor = F.one_hot(y_train_tensor, num_classes=10)\n",
        "#y_test_tensor = F.one_hot(y_test_tensor, num_classes=10)\n",
        "\n",
        "# Create TensorDatasets\n",
        "train_tensor = TensorDataset(X_train_tensor, y_train_tensor)\n",
        "test_tensor = TensorDataset(X_test_tensor, y_test_tensor)\n",
        "\n",
        "# Create DataLoaders\n",
        "train_loader = DataLoader(train_tensor, batch_size=8000, shuffle=True)\n",
        "test_loader = DataLoader(test_tensor, batch_size=8000, shuffle=True)"
      ]
    },
    {
      "cell_type": "markdown",
      "id": "aaf60898-fba0-42ac-98d1-2e8b27b97996",
      "metadata": {
        "id": "aaf60898-fba0-42ac-98d1-2e8b27b97996"
      },
      "source": [
        "## Neural network"
      ]
    },
    {
      "cell_type": "markdown",
      "source": [
        "**Vanilla CNN**:\n",
        "\n",
        "- 1st Convolution: 32@3x3 filter, stride 1, padding = 1\n",
        "- Activation function: ReLu\n",
        "- 2nd Convolution: 64@5x5 filter, stride 1, padding = 2\n",
        "- Activation function: ReLu\n",
        "- Max Pooling: 2x2 filter, stride 2\n",
        "----------------------\n",
        "- 3rd Convolution: 128@3x3 filter, stride 1, padding = 1\n",
        "- Activation function: ReLu\n",
        "- 4th Convolution: 64@5x5 filter, stride 1, padding = 2\n",
        "- Activation function: ReLu\n",
        "- Max Pooling: 2x2 filter, stride 2\n",
        "----------------------\n",
        "- Flatten the output for fully connected layer\n",
        "- 3 dense layers (3136 input nodes, 128  hidden nodes, 10 output nodes) \n",
        "\n"
      ],
      "metadata": {
        "id": "_LlsSHApBzMa"
      },
      "id": "_LlsSHApBzMa"
    },
    {
      "cell_type": "code",
      "source": [
        "# Vanilla neural network, a first application of a CNN\n",
        "VanillaNN = VanillaNN().to(device)"
      ],
      "metadata": {
        "id": "BRTOynQ9ByUD"
      },
      "id": "BRTOynQ9ByUD",
      "execution_count": null,
      "outputs": []
    },
    {
      "cell_type": "markdown",
      "id": "401f2f27-d075-47ef-9644-b9aebd3b9a8c",
      "metadata": {
        "id": "401f2f27-d075-47ef-9644-b9aebd3b9a8c"
      },
      "source": [
        "## Solution"
      ]
    },
    {
      "cell_type": "markdown",
      "id": "38d0e56a-2e16-4f79-b967-d0c9aa1be1a7",
      "metadata": {
        "id": "38d0e56a-2e16-4f79-b967-d0c9aa1be1a7"
      },
      "source": [
        "Define different structures for the neural network:"
      ]
    },
    {
      "cell_type": "code",
      "execution_count": null,
      "id": "161199bf-107f-473b-b91d-b688dc908f32",
      "metadata": {
        "id": "161199bf-107f-473b-b91d-b688dc908f32"
      },
      "outputs": [],
      "source": []
    },
    {
      "cell_type": "markdown",
      "id": "d0846a95-8e5f-4116-a811-7543dba11b93",
      "metadata": {
        "id": "d0846a95-8e5f-4116-a811-7543dba11b93"
      },
      "source": [
        "Solve the neural network:"
      ]
    },
    {
      "cell_type": "code",
      "execution_count": null,
      "id": "bc854163-b90d-441e-9f23-bd8af1f8bf07",
      "metadata": {
        "colab": {
          "base_uri": "https://localhost:8080/"
        },
        "id": "bc854163-b90d-441e-9f23-bd8af1f8bf07",
        "outputId": "56ea1fc3-8eac-44a6-ca9b-cae3d1a161b2"
      },
      "outputs": [
        {
          "output_type": "stream",
          "name": "stdout",
          "text": [
            "Accuracy: 0.80\n",
            "Accuracy: 0.91\n",
            "Accuracy: 0.92\n",
            "Accuracy: 0.92\n"
          ]
        }
      ],
      "source": [
        "for _ in range(4):\n",
        "  NN = NeuralNetwork(VanillaNN)\n",
        "  NN.initialise(loss_function = nn.CrossEntropyLoss(), optimizer = torch.optim.Adam(VanillaNN.parameters(),lr= 0.001) )\n",
        "  NN.fit(train_loader, max_epochs = 50)\n",
        "  y_pred, y_test = NN.predict(test_loader)\n",
        "  print(\"Accuracy: %.2f\"%accuracy_score(y_pred, y_test))"
      ]
    },
    {
      "cell_type": "markdown",
      "source": [
        "L'accuracy è normale che varia perchè con il mini batch stai prendendo dei subset diversi e quindi ogni dataset darò un diverso valore della direzione in cui muoversi per la discesa. Quindi in questo caso, ci sono due approcci, utilizzare un decay/un ADAM optimizer o comunque ridurre il learning rate"
      ],
      "metadata": {
        "id": "fuYdnxuk7kow"
      },
      "id": "fuYdnxuk7kow"
    },
    {
      "cell_type": "markdown",
      "id": "67c5014b-beae-4da3-91b8-b0568036da07",
      "metadata": {
        "id": "67c5014b-beae-4da3-91b8-b0568036da07"
      },
      "source": [
        "## CNN layers"
      ]
    },
    {
      "cell_type": "markdown",
      "id": "2a537e75-7bb8-4caf-bad0-f3fe6fd4bc41",
      "metadata": {
        "id": "2a537e75-7bb8-4caf-bad0-f3fe6fd4bc41"
      },
      "source": [
        "**Filters**:\n",
        "- Number of filters K (2,4, order of 2)\n",
        "- Filter size F (odd mostly, 3, 5 )\n",
        "- Stride S (mostly one)\n",
        "- Padding amount P\n",
        "\n",
        "**Pooling**:\n",
        "- F = 2, 3\n",
        "- S = 1 , 2"
      ]
    },
    {
      "cell_type": "markdown",
      "id": "762e3c7f-abb2-4cf9-8af7-314c3f826239",
      "metadata": {
        "id": "762e3c7f-abb2-4cf9-8af7-314c3f826239"
      },
      "source": [
        "class NeuralNetwork_OLD():\n",
        "    \n",
        "    def __init__(self, nn):\n",
        "        self.nn = nn\n",
        "    \n",
        "    def initialise(self, loss_function, optimizer):\n",
        "    \n",
        "        self.loss_function = loss_function\n",
        "        self.optimizer = optimizer\n",
        "        \n",
        "    def fit(self, X, y, max_epochs, n_mini_batches):\n",
        "        \n",
        "        L_history = []\n",
        "                \n",
        "        # Create batches of mini-batch training\n",
        "        batch_size = int(len(X)/n_mini_batches) # batch dimension\n",
        "        batches = [range(x,min(x+batch_size,len(X))) for x in range(0, len(X), batch_size)]\n",
        "        \n",
        "        for epoch in range(max_epochs):\n",
        "            \n",
        "            # Shuffle data\n",
        "            shuffle_indices = np.arange(len(X))\n",
        "            np.random.shuffle(shuffle_indices)\n",
        "            X = X[shuffle_indices]\n",
        "            y = y[shuffle_indices] \n",
        "            \n",
        "            L_batch = 0.0 \n",
        "            \n",
        "            for batch in batches: # Train each batch independently \n",
        "                \n",
        "                # Select batches\n",
        "                X_batch = X[batch]\n",
        "                y_batch = y[batch]\n",
        "\n",
        "                # Set gradients to zero\n",
        "                self.optimizer.zero_grad()\n",
        "    \n",
        "                # Forward pass\n",
        "                output = self.nn(X_batch)\n",
        "    \n",
        "                # Compute loss \n",
        "                L = self.loss_function(output, y_batch)\n",
        "    \n",
        "                # Backward pass\n",
        "                L.backward()\n",
        "        \n",
        "                # Weights update\n",
        "                self.optimizer.step()\n",
        "                \n",
        "                L_batch += L.item() * batch_size\n",
        "    \n",
        "            L_history.extend([L_batch])\n",
        "\n",
        "        self.L_history = L_history\n",
        "        \n",
        "    def evaluate(self, X, y):\n",
        "        \n",
        "        \n",
        "        y_pred = self.nn(X)\n",
        "        a =np.where(y_pred>0.5,1,0)\n",
        "        test = sum(a == y.numpy())/len(y)\n",
        "        \n",
        "        print(\"Accuracy: %.2f\" % test)\n",
        "        print(\"\\n\")\n",
        "        \n",
        "        fig, ax = plt.subplots(figsize = (5,5))\n",
        "        ax.plot(self.L_history)\n",
        "        ax.set_xlabel(\"Epochs\")\n",
        "        ax.set_ylabel(\"Loss\")\n",
        "    "
      ]
    },
    {
      "cell_type": "code",
      "execution_count": null,
      "id": "fdd1efbe-2bb7-4c84-a5db-0df1a59d0b52",
      "metadata": {
        "id": "fdd1efbe-2bb7-4c84-a5db-0df1a59d0b52"
      },
      "outputs": [],
      "source": []
    }
  ],
  "metadata": {
    "kernelspec": {
      "display_name": "Python 3 (ipykernel)",
      "language": "python",
      "name": "python3"
    },
    "language_info": {
      "codemirror_mode": {
        "name": "ipython",
        "version": 3
      },
      "file_extension": ".py",
      "mimetype": "text/x-python",
      "name": "python",
      "nbconvert_exporter": "python",
      "pygments_lexer": "ipython3",
      "version": "3.9.12"
    },
    "colab": {
      "provenance": []
    },
    "accelerator": "GPU",
    "gpuClass": "standard"
  },
  "nbformat": 4,
  "nbformat_minor": 5
}